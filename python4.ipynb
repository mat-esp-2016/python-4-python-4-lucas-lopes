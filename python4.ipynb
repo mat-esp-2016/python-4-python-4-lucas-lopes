{
 "cells": [
  {
   "cell_type": "code",
   "execution_count": 1,
   "metadata": {
    "collapsed": true
   },
   "outputs": [],
   "source": [
    "%matplotlib inline\n",
    "import matplotlib.pyplot as plt\n",
    "import numpy as np\n",
    "import glob\n",
    "import math\n",
    "# Importando as bibliotecas necessárias, para confecção do codigo."
   ]
  },
  {
   "cell_type": "code",
   "execution_count": 2,
   "metadata": {
    "collapsed": true
   },
   "outputs": [],
   "source": [
    "def nome_cidade_to_lat_long(dados):\n",
    "    arquivo = open(dados)\n",
    "    line = arquivo.readlines()[4:5]\n",
    "    text = ''.join(line)\n",
    "    lat_long = text.split()[1:5]\n",
    "    lat_long = ''.join(lat_long)\n",
    "    #Código para busca de dados de latitude e longitude.\n",
    "    arquivo = open(dados)\n",
    "    line = arquivo.readlines()[35:36]\n",
    "    text = ''.join(line)\n",
    "    city = text.split()[3][:-1]\n",
    "    #Cófido para busca dos nomes das cidades mais próximas.\n",
    "    return(lat_long, city)\n",
    "    #A função retorna os valores de latitude, longitude e o nome da cidade mais próxima."
   ]
  },
  {
   "cell_type": "code",
   "execution_count": 3,
   "metadata": {
    "collapsed": false
   },
   "outputs": [
    {
     "data": {
      "text/plain": [
       "('2.41S,60.27W', 'Manaus')"
      ]
     },
     "execution_count": 3,
     "metadata": {},
     "output_type": "execute_result"
    }
   ],
   "source": [
    "#Testando a função\n",
    "nome_cidade_to_lat_long(\"./dados/2.41S-60.27W-TAVG-Trend.txt\")"
   ]
  },
  {
   "cell_type": "code",
   "execution_count": 6,
   "metadata": {
    "collapsed": true
   },
   "outputs": [],
   "source": [
    "def temperatura_anual_estimada(dados):\n",
    "    arquivo = open(dados)\n",
    "    line = arquivo.readlines()[47:48]\n",
    "    text = ''.join(line)\n",
    "    temperatura_absoluta = text.split()[8]\n",
    "    temperatura_absoluta = float(temperatura_absoluta)\n",
    "    #Código para busca da temperatura absoluta estimada.\n",
    "    data = np.loadtxt(dados, comments = \"%\")\n",
    "    temperatura_anual_anomalia = np.nan_to_num(data[:,4])\n",
    "    #Código para busca de anomalia de temperatura anual.\n",
    "    return(temperatura_anual_anomalia + temperatura_absoluta)\n",
    "    #A função retorna um \"np.array\" de temperatura anual estimada, que é a soma da anomalia de temperatura anual e a temperatura\n",
    "    #absoluta estimada."
   ]
  },
  {
   "cell_type": "code",
   "execution_count": 7,
   "metadata": {
    "collapsed": false
   },
   "outputs": [
    {
     "data": {
      "text/plain": [
       "array([ 26.72,  26.72,  26.72, ...,  26.72,  26.72,  26.72])"
      ]
     },
     "execution_count": 7,
     "metadata": {},
     "output_type": "execute_result"
    }
   ],
   "source": [
    "temperatura_anual_estimada(\"./dados/2.41S-60.27W-TAVG-Trend.txt\")"
   ]
  },
  {
   "cell_type": "code",
   "execution_count": null,
   "metadata": {
    "collapsed": true
   },
   "outputs": [],
   "source": []
  }
 ],
 "metadata": {
  "anaconda-cloud": {},
  "kernelspec": {
   "display_name": "Python [Root]",
   "language": "python",
   "name": "Python [Root]"
  },
  "language_info": {
   "codemirror_mode": {
    "name": "ipython",
    "version": 3
   },
   "file_extension": ".py",
   "mimetype": "text/x-python",
   "name": "python",
   "nbconvert_exporter": "python",
   "pygments_lexer": "ipython3",
   "version": "3.5.2"
  }
 },
 "nbformat": 4,
 "nbformat_minor": 0
}
