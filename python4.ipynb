{
 "cells": [
  {
   "cell_type": "code",
   "execution_count": 1,
   "metadata": {
    "collapsed": true
   },
   "outputs": [],
   "source": [
    "%matplotlib inline\n",
    "import matplotlib.pyplot as plt\n",
    "import numpy as np\n",
    "import glob\n",
    "import math\n",
    "# Importando as bibliotecas necessárias, para confecção do codigo."
   ]
  },
  {
   "cell_type": "code",
   "execution_count": 8,
   "metadata": {
    "collapsed": true
   },
   "outputs": [],
   "source": [
    "def nome_cidade_to_lat_long(dados):\n",
    "    arquivo = open(dados)\n",
    "    line = arquivo.readlines()[4:5]\n",
    "    text = ''.join(line)\n",
    "    lat_long = text.split()[1:5]\n",
    "    lat_long = ''.join(lat_long)\n",
    "    #Código para busca de dados de latitude e longitude.\n",
    "    arquivo = open(dados)\n",
    "    line = arquivo.readlines()[35:36]\n",
    "    text = ''.join(line)\n",
    "    city = text.split()[3][:-1]\n",
    "    #Cófido para busca dos nomes das cidades mais próximas.\n",
    "    return(lat_long, city)\n",
    "    #A função retorna os valores de latitude, longitude e o nome da cidade mais próxima."
   ]
  },
  {
   "cell_type": "code",
   "execution_count": 9,
   "metadata": {
    "collapsed": false
   },
   "outputs": [
    {
     "data": {
      "text/plain": [
       "('2.41S,60.27W', 'Manaus')"
      ]
     },
     "execution_count": 9,
     "metadata": {},
     "output_type": "execute_result"
    }
   ],
   "source": [
    "#Testando a função\n",
    "nome_cidade_to_lat_long(\"./dados/2.41S-60.27W-TAVG-Trend.txt\")"
   ]
  }
 ],
 "metadata": {
  "anaconda-cloud": {},
  "kernelspec": {
   "display_name": "Python [Root]",
   "language": "python",
   "name": "Python [Root]"
  },
  "language_info": {
   "codemirror_mode": {
    "name": "ipython",
    "version": 3
   },
   "file_extension": ".py",
   "mimetype": "text/x-python",
   "name": "python",
   "nbconvert_exporter": "python",
   "pygments_lexer": "ipython3",
   "version": "3.5.2"
  }
 },
 "nbformat": 4,
 "nbformat_minor": 0
}
